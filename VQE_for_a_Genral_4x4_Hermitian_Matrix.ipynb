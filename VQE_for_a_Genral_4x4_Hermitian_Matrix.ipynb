{
 "cells": [
  {
   "cell_type": "markdown",
   "metadata": {},
   "source": [
    "# <center> Solution to Q. 4 of the screening questions:</center>\n",
    "#### \n",
    "# <center>A VQE code for arbitraty 'Hermitian' 4x4 matrices </center>\n",
    "#### \n",
    "\n",
    "I am adding to the original task, which asked to solve for a simple matrix, by generalizing the task to any Hermitian matrix, with emphasis on ```Hermiticity``` to ensure a full set of ```REAL``` eigenvalues.\n",
    "\n",
    "## <center> PLEASE APPLY THE CELLS IN ORDER </center>"
   ]
  },
  {
   "cell_type": "markdown",
   "metadata": {},
   "source": [
    "## Aim of this code:\n",
    "Our goal is to find the lowest eigenvalue of a given matrix. In terms of quantum hardware, this translates to the lowest energy $E_0$ of some Hamiltonian.\n",
    "### \n",
    "## Steps:\n",
    "#### \n",
    "### Quantum Part:\n",
    "#### \n",
    "1. Translating the matrix into a qubit operator making it accessible to our quantum hardware\n",
    "#### \n",
    "2. The quantum Bulding the ansatz circuit with some controllable parameters, which generates a tunable trial wavefunction on which we can apply our given qubit operator as a Hamiltonian. The ansatz circuit needs to be flexible enough to gain access to most of the N-qubit (in this case 2 qubit) Hilbert state space.\n",
    "#### \n",
    "3. Measuring the expectation value of every pauli product term in the qubit operator (representing the Hamiltonian). This yields the energy of every term in the Hamiltonian, and we add them all up to generate the energy of the given trial state (ansatz) which we setup using a unique list of parameters.\n",
    "#### \n",
    "### Classical part:\n",
    "### \n",
    "3. Fine tune the ansatz circuit to find the lowest possible energy of this Hamiltonian. This is the classical optimization part, and is achievable through classical optimization techniques aimed at fine tuning the parameters of the ansatz. This step generates a modified ansatz circuit bringing us a step closer to the optimized trial wavefunction which approximates the ground state of the Hamiltonian.\n",
    "#### \n",
    "On obtainig the ground state energy, we have ourselves the lowest eigenvalue of the Hamiltonian, which corresponds to the lowest eigenvalue of its matrix. \n"
   ]
  },
  {
   "cell_type": "markdown",
   "metadata": {},
   "source": [
    "#### ```an Optional read ```: (some extra insight into the potential usefullness of a more specialized version of this code in quantum chemistry):\n",
    "### \n",
    "\n",
    "This matrix could be a representation of some Hamiltonian of a physical system mapped to a representation which is compatible with quantum hardware. For example, In chemistry this matrix could resemble a physical system's Hamiltonian adjusted by second quantization into a ```Fock space```, where it can then be mapped to a fermionic operator, composed entirely of zeros and ones. This creates an occupational number (ON) basis with their own creation and annihilation operators, where everything is in zeros and ones, making it ideal for mapping onto a qubit based system.\n",
    "#### \n",
    "If we recall that the Hamiltonian matrix elements are simply representations of some physical parameters of a molecular system which contribute to energy (for example bond length in spacial coordinates of some molecule), then extracting the lowest eigenvalue will translate to targeting the lowest energy of the phsyical system.\n",
    "#### \n"
   ]
  },
  {
   "cell_type": "code",
   "execution_count": 5,
   "metadata": {},
   "outputs": [],
   "source": [
    "## importing some useful packages including ready definitions and arrays for pauli operators\n",
    "\n",
    "from qiskit import *\n",
    "import numpy as np\n",
    "from IPython.display import Math\n",
    "from numpy import kron\n",
    "\n",
    "from qiskit.quantum_info.operators import Operator, Pauli\n",
    "from qiskit.quantum_info import process_fidelity\n",
    "from qiskit.extensions import RXGate, XGate, CXGate, RYGate\n",
    "from qiskit.quantum_info import Statevector\n"
   ]
  },
  {
   "cell_type": "markdown",
   "metadata": {},
   "source": [
    "## STEP 1: Getting the qubit operator from a matrix\n",
    "### \n",
    "\n",
    "We are given in the task a single matrix, I will expand the task to ANY Hermitian matrix and will therefore apply this code to 3 different matrices and the reader is free to try out others. The three matrices I will be using are:\n"
   ]
  },
  {
   "cell_type": "code",
   "execution_count": 6,
   "metadata": {},
   "outputs": [],
   "source": [
    "\n",
    "################################ ORIGINAL TASK MATRIX ##############################\n",
    "\n",
    "Hami_1 = np.array([\n",
    "    [1,0,0,0],\n",
    "    [0,0,-1,0],\n",
    "    [0,-1,0,0],\n",
    "    [0,0,0,1]\n",
    "])\n",
    "\n",
    "\n",
    "#################################### EXTRA EXAMPLE 1 ###############################\n",
    "\n",
    "Hami_2 = np.array([\n",
    "    [1,4,3,6],\n",
    "    [4,0,-8,0],\n",
    "    [3,-8,0,3],\n",
    "    [6,0,3,1]\n",
    "])\n",
    "\n",
    "################################### EXTRA EXAMPLE 2 ################################\n",
    "\n",
    "Hami_3 = np.array([\n",
    "    [1,4j,3,6+2j],\n",
    "    [-4j,0,-8,0],\n",
    "    [3,-8,0,3],\n",
    "    [6-2j,0,3,1]\n",
    "])\n",
    "\n",
    "\n"
   ]
  },
  {
   "cell_type": "markdown",
   "metadata": {},
   "source": [
    "#### Now given the Hamiltonian / matrix, we must map it to a Qubit Operator\n",
    "### \n",
    "\n",
    "This step entails we expand our matrix into a sum of Pauli string, which are all comprised of valid qubit operators, and therefore compatible with our quantum hardware.\n",
    "\n",
    "Our Pauli string terms will be composed of a kroneker product of two (2x2) operators. We know this is possible since we can always represent any hermitian operator of any size as a sum of some product of single and double qubit operators, a proof given in <a href=\"https://journals.aps.org/pra/abstract/10.1103/PhysRevA.51.1015\">this paper</a>. There are seveeral ways to do this, I chose to code for my own ```pauli string decomposition```.\n",
    "### \n",
    "Since we are given a (4x4) Hermitian matrix, we can immediately look to write it as a sum of tensor products of two pauli matrices $\\sigma_i \\sigma_j$, with coefficients $a_{ij}$  giving:\n",
    "### \n",
    "\n",
    "$$H = \\sum_{i,j=1,x,y,z} a_{ij} (\\sigma_i^{(2)} \\otimes\\sigma_j^{(1)})\\hspace{1cm}(1)  \\hspace{25cm}\\\n",
    "\\\\ a_{ij} = \\frac{1}{4} Tr[(\\sigma_i^{(2)} \\otimes\\sigma_j^{(1)})H]\\hspace{1cm}(2) $$\n",
    "\n",
    "### \n",
    "Now to apply this in code\n"
   ]
  },
  {
   "cell_type": "markdown",
   "metadata": {},
   "source": [
    "#### Code for mapping the matrix to a Qubit Operator"
   ]
  },
  {
   "cell_type": "code",
   "execution_count": 8,
   "metadata": {},
   "outputs": [],
   "source": [
    "####################################################################################\n",
    "\n",
    "##*** this is a dictionary containing all the 16 permutations of our 2-qubit pauli product terms.\n",
    "# the permutations are formed of the single qubit pauli operators I,X,Y and Z, which form a basis for\n",
    "# any hermitian 2x2 matrix, so the permutations of their kroneker product form a basis for any\n",
    "# 2-qubit operator , and in turn 4x4 hermitian matrix  ***##\n",
    "\n",
    "\n",
    "pauli_dict = {\n",
    "\n",
    "    \"II\" : Operator(Pauli(label='II')),\n",
    "    \"XX\" : Operator(Pauli(label='XX')),\n",
    "    \"YY\" : Operator(Pauli(label='YY')),\n",
    "    \"ZZ\" : Operator(Pauli(label='ZZ')),\n",
    "\n",
    "    \"XI\" : Operator(Pauli(label='XI')),\n",
    "    \"IX\" : Operator(Pauli(label='IX')),\n",
    "    \"YI\" : Operator(Pauli(label='YI')),\n",
    "    \"IY\" : Operator(Pauli(label='IY')),\n",
    "    \"ZI\" : Operator(Pauli(label='ZI')),\n",
    "    \"IZ\" : Operator(Pauli(label='IZ')),\n",
    "\n",
    "    \"XZ\" : Operator(Pauli(label='XZ')),\n",
    "    \"ZX\" : Operator(Pauli(label='ZX')),\n",
    "    \"YZ\" : Operator(Pauli(label='YZ')),\n",
    "    \"ZY\" : Operator(Pauli(label='ZY')),\n",
    "\n",
    "    \"XY\" : Operator(Pauli(label='XY')),\n",
    "    \"YX\" : Operator(Pauli(label='YX')),\n",
    "   \n",
    "}\n",
    "\n",
    "####################################################################################\n",
    "\n",
    "## a list of the pauli product operators:\n",
    "pauli_values_key = list(pauli_dict.values()) \n",
    "\n",
    "## a list of the corresponding labels of the pauli product operators ex \"XX\" \"YY\" etc. :\n",
    "pauli_labels_key = list(pauli_dict)  \n",
    "\n",
    "####################################################################################\n",
    "\n",
    "\n",
    "####################################################################################\n",
    "\n",
    "##*** the function IP ----> (Inner product) takes 2 matrices and projects M2 onto the given M1 matrix,we \n",
    "# use this to project the given 4x4 hermitian matrix onto the 16 2-qubit pauli product terms ***##\n",
    "\n",
    "def IP(M1, M2):\n",
    "    ''' parameters:\n",
    "    M1 ..... the basis element on which the projection is done\n",
    "    M2 ..... the given matrix we want to decompose\n",
    "    '''\n",
    "    return (np.dot(M1.conjugate().transpose(), M2)).trace()\n",
    "\n",
    "\n",
    "####################################################################################\n",
    "\n",
    "## the function q_op ----> (Qubit operator) maps a matrix into 2-qubit pauli strings\n",
    "\n",
    "def q_op(H):\n",
    "    ''' parameters:\n",
    "    H ...... the matrix we want to map to the qubit operator    \n",
    "    '''   \n",
    "    ## initializing necessary lists to hold the info on the decomposition:\n",
    "    ##*** initiating empty lists which will be used later by the qubit operator fucntion \"q_op\" to \n",
    "    # append to the list the operators with non-zero coefficients \n",
    "    #(resulting from the matrix decomposition) ***##\n",
    "\n",
    "    My_Hami_pauli_list = np.zeros(16, dtype=complex)\n",
    "    \n",
    "    pauli_string_indices = []  ## the indices (from 1-16) of the 2-qubit operators forming the matrix,\n",
    "                            # ex. \"YY\" corresponds to index \"2\" according to the pauli_dict dictionary \n",
    "    \n",
    "    pauli_string_labels = []  ## list of labels of the pauli prodcut operators from the matrix decomposition\n",
    "\n",
    "    pauli_string_coefficients = []  ## list of the coefficients of the pauli product terms forming the matrix\n",
    "\n",
    "    ## a for loop that projects H onto the i'th pauli string per iteration ##    \n",
    "    for i in range(16):\n",
    "        ## the projection on the current basis:\n",
    "        My_Hami_pauli_list[i] = 1/4 * IP(pauli_values_key[i].data, H) \n",
    "            \n",
    "        if My_Hami_pauli_list[i] != 0.0: ## singling out the non zero coefficients and printing them out\n",
    "            print(My_Hami_pauli_list[i],pauli_labels_key[i])\n",
    "            pauli_string_indices.append(i)\n",
    "            pauli_string_labels.append(pauli_labels_key[i])\n",
    "            pauli_string_coefficients.append(My_Hami_pauli_list[i])\n",
    "    \n",
    "    return My_Hami_pauli_list, pauli_string_indices, pauli_string_labels, pauli_string_coefficients \n",
    "\n",
    "####################################################################################            \n",
    "\n",
    "\n",
    "            "
   ]
  },
  {
   "cell_type": "code",
   "execution_count": 9,
   "metadata": {},
   "outputs": [
    {
     "name": "stdout",
     "output_type": "stream",
     "text": [
      "(0.5+0j) II\n",
      "(-0.5+0j) XX\n",
      "(-0.5+0j) YY\n",
      "(0.5+0j) ZZ\n"
     ]
    }
   ],
   "source": [
    "####################################################################################\n",
    "\n",
    "## here we generate the qubit operator by applying the decomposition function q_op on the 1st matrix Hami_1\n",
    "quantum_operator_1 = q_op(Hami_1)\n",
    "\n",
    "## Assigning the pauli_string indices, labels and coefficients of the non zero pauli product terms to a lsit\n",
    "\n",
    "My_Hami_pauli_list = quantum_operator_1[0]\n",
    "pauli_string_indices = quantum_operator_1[1]\n",
    "pauli_string_labels = quantum_operator_1[2]\n",
    "pauli_string_coefficients =quantum_operator_1[3]\n",
    "\n",
    "## turning the lists into arrays for convenience\n",
    "\n",
    "pauli_string_indices = np.asarray(pauli_string_indices)\n",
    "pauli_string_labels = np.asarray(pauli_string_labels)\n",
    "pauli_string_coefficients = np.asarray(pauli_string_coefficients)\n",
    "\n",
    "####################################################################################\n",
    "## the function also prints the non zero pauli product states with corresponding coefficients: "
   ]
  },
  {
   "cell_type": "markdown",
   "metadata": {},
   "source": [
    "### Mapping the first (GIVEN) Matrix in the task to a Qubit operator :\n",
    "### \n",
    "\n",
    "we find that the decomposition of the first given matrix H into pauli string is :\n",
    "### \n",
    "$$\\begin{pmatrix} 1&0&0&0 \\\\0&0&-1&0\\\\0&-1&0&0\\\\0&0&0&1 \\end{pmatrix} \\ = \\ (0.5) II-(0.5) XX-(0.5) YY+(0.5) ZZ\n",
    "$$\n",
    "### \n"
   ]
  },
  {
   "cell_type": "markdown",
   "metadata": {},
   "source": [
    "## STEP 2: Preparing the asnatz :\n",
    "### \n",
    "\n",
    "Choosing the ansatz is a delicate skill highly dependent on experience and intuition, so the one I'm using here was suggested in the problem statement itself. If the reader would like a more universal ansatz for a 2 qubit system they could check out the \"Hardware ansatz\", some with 10 unique parametrizations in them. However as recommended we can start of with the given single paramter ansatz:\n",
    "### "
   ]
  },
  {
   "cell_type": "code",
   "execution_count": 10,
   "metadata": {},
   "outputs": [],
   "source": [
    "##Add some gates to start shaping the initial all zeros qubit state into the given ansatz\n",
    "\n",
    "'''  Since the ansatz proposed in the question is not universal, I will choose a more encompassing \n",
    "pseudo-universal ansatz with just 8 parameters given below, it should be good enough to cover most of the \n",
    "2 qubit hilbert space down to acceptable resolution'''\n",
    "\n",
    "####################################################################################\n",
    "\n",
    "##### first we define a single qubit ansatz from which we can call to form any number of double qubit ansatz\n",
    "\n",
    "def Single_Qubit_Ansatz(qc, qubit, angles):\n",
    "    '''\n",
    "    function parameters:\n",
    "    qc...... QuantumCircuit\n",
    "    qubit_pstn......... qubit's position in qubit register\n",
    "    angles .... array of anngles\n",
    "    Applies the neccessary rotation gates for a single qubit ansatz state\n",
    "    '''\n",
    "    qc.ry( angles[0], qubit )\n",
    "    qc.rz( angles[1], qubit )\n",
    "    \n",
    "####################################################################################\n",
    "\n",
    "##### second we define the 2-qubit gates which are simply combinations of 1-qubit gates and entanglers\n",
    "\n",
    "def Two_Qubit_Ansatz(qc, q, angles):\n",
    "    \n",
    "    '''\n",
    "    parameters:\n",
    "    qc ..... (QuantumCircuit)\n",
    "    q ....... (QuantumRegister) \n",
    "    params (array) ....  Applies the neccessary rotation on ALL the single qubit rotators'''\n",
    "    \n",
    "    Single_Qubit_Ansatz( qc, q[0], [angles[0], angles[1]] )    \n",
    "    Single_Qubit_Ansatz( qc, q[1], [angles[2], angles[3]] )\n",
    "    qc.cx( q[0], q[1] )\n",
    "    Single_Qubit_Ansatz( qc, q[0], [angles[4], angles[5]] )\n",
    "    Single_Qubit_Ansatz( qc, q[1], [angles[6], angles[7]] )\n",
    "    \n",
    "    \n",
    "####################################################################################  \n",
    "## this functions generates the requires ansatz:\n",
    "\n",
    "def Get_Two_Qubit_Circuit(angles):\n",
    "    '''\n",
    "    parameters:\n",
    "    just give the function the 8 angles for generating the ansatz\n",
    "    '''\n",
    "    qr = QuantumRegister(2,'q')\n",
    "    cr = ClassicalRegister(2,'c')\n",
    "    qc = QuantumCircuit(qr,cr)\n",
    "    Two_Qubit_Ansatz(qc,qr,angles)\n",
    "    \n",
    "    return qc\n",
    "\n",
    "\n"
   ]
  },
  {
   "cell_type": "markdown",
   "metadata": {},
   "source": [
    "### An ansatz circuit has 2 main regions besides the framework. \n",
    "#### \n",
    "A. The ```rotations```, which are given by the ```RX and RY gates``` in this case. Here we have a hardware ansatz with 8 parameters, the ``` 8-angles``` of rotation on the 8-rotation gayes. These are our ```Parametrized single qubit rotations```\n",
    "#### \n",
    "B. The ```entangling region```, which is a lonely ```CX gate``` in our case. It relates the state of the first with the second qubit through entanglment, bringing about quantum effects and allwoing us to have superposition states which gives us access to many more 2-qubit state subspaces, and is crucial for finding the right eigenstate of the hamiltonian matrix with the lowest eigenvalue.\n",
    "#### \n"
   ]
  },
  {
   "cell_type": "markdown",
   "metadata": {},
   "source": [
    "#### An example of what the ansatz looks like using the \"Get_Two_Qubit_Circuit\" function above, with angles given as 1-8 for illustration:"
   ]
  },
  {
   "cell_type": "code",
   "execution_count": 11,
   "metadata": {
    "scrolled": true
   },
   "outputs": [
    {
     "data": {
      "image/png": "[encoded data removed]",
      "text/plain": [
       "<Figure size 485.475x264.88 with 1 Axes>"
      ]
     },
     "execution_count": 11,
     "metadata": {},
     "output_type": "execute_result"
    }
   ],
   "source": [
    "\n",
    "params = np.array([1,2,3,4,5,6,7,8]) ## an array for illustration composed of angles 1-8\n",
    "aa = Get_Two_Qubit_Circuit(params) ## applying the ansatz circuit generator function on a list of 8 angles\n",
    "\n",
    "aa.draw(output='mpl',cregbundle=False, initial_state = 'True') ## fucntion that draws the circuit\n"
   ]
  },
  {
   "cell_type": "markdown",
   "metadata": {},
   "source": [
    "## STEP 3: Extracting the Expectation values of all the pauli terms from the counts made on repeated measurement on a quantum computer (or in this case a quantum computer simulator):"
   ]
  },
  {
   "cell_type": "markdown",
   "metadata": {},
   "source": [
    "Each pauli term dictates a certain protocol for getting expectation values from quantum hardware measurements. We are limited to using the Z-basis for measurment since that is what our quantum hardware dictates.For example for the first matrix decomposition the expectation value would be :\n",
    "#### \n",
    "\n",
    "$$\\left\\langle H \\right\\rangle = \\left\\langle \\psi \\right| H \\left| \\psi \\right\\rangle = 0.5 \\left\\langle \\psi \\right| II \\left| \\psi \\right\\rangle - 0.5 \\left\\langle \\psi \\right| XX \\left| \\psi \\right\\rangle -0.5 \\left\\langle \\psi \\left| YY \\right| \\psi \\right\\rangle + 0.5 \\left\\langle \\psi \\left| ZZ \\right| \\psi \\right\\rangle $$\n",
    "#### \n",
    "\n",
    "This is straightforward to extract given we apply the circuit and do our repeated measurements term by term. For the ZZ operator it's straightforward since it's already in the z-basis. and the state is\n",
    "#### \n",
    "\n",
    "$$ c_1^{ZZ}\\left| 00 \\right\\rangle + c_2^{ZZ}\\left| 01 \\right\\rangle + c_3^{ZZ}\\left| 10 \\right\\rangle + c_4^{ZZ}\\left| 11 \\right\\rangle,$$\n",
    "#### \n",
    "\n",
    "<center> This gives the expectation value of </center>\n",
    "\n",
    "\n",
    "$$ {|c_1^{ZZ}|}^2 + {|c_2^{ZZ}|}^2 + {|c_3^{ZZ}|}^2 + {|c_4^{ZZ}|}^2$$\n",
    "\n",
    "####  \n",
    "\n",
    "This is easy to get from our quantum hardware measurements since these terms are simply the probabilities of getting these states. For example ${|c_1^{ZZ}|}^2$ is the probability of getting state $\\left| 00 \\right\\rangle$ and corresponds to the counts registered in that state during measurment divided by the total counts states. ZI and IZ terms however require a certain pattern for the +/- signs infront of the counts and we will use a function that propagates basis states into a +/- state to extract this info.\n",
    "\n",
    "#### \n",
    "\n",
    "Now for Terms with a single X or Y in their pauli products, getting the counts to represent their expectation values is not straightforward, and we need to apply rotations to that qubit before measurment. any single qubit X term, in the pauli product, will require a Hadamard gate on that qubit before measurement, and any Y term will require a U2 gate at 0 and 90 degrees. this too is accounted fore by another function which forms the measurement circuit by adjusting the ansatz for each case.\n",
    "#### \n",
    "\n"
   ]
  },
  {
   "cell_type": "code",
   "execution_count": 12,
   "metadata": {},
   "outputs": [],
   "source": [
    "\n",
    "####################################### Function calculating the appropriate +/- sign informt of the counts\n",
    "# of 00 , 01, 10, 11 given a certain label XX,YY,ZZ,ZI ... etx #####################################\n",
    "\n",
    "def eigenvalue_array (measurement_label):\n",
    "    '''\n",
    "    parameters: \n",
    "    measurement_label ........ input XX, YY, IZ ..etc to denote the pauli product term\n",
    "    provided the labels for the pauli product operator, we divide the 16 available basis terms into \n",
    "    3 main protocols, they either follow the ZZ pattern, the IZ pattern or the ZI pattern,\n",
    "    '''\n",
    "    if measurement_label in (\"II\",\"XX\",\"YY\",\"ZZ\",\"XY\",\"YX\",\"XZ\",\"ZX\",\"YZ\",\"ZY\"):\n",
    "        label = \"ZZ\"\n",
    "    elif measurement_label in (\"XI\",\"YI\",\"ZI\"):\n",
    "        label = \"ZI\"\n",
    "    elif measurement_label in (\"IX\",\"IY\",\"IZ\"):\n",
    "        label = \"IZ\"\n",
    "    \n",
    "    evolved00 = Statevector.from_label('00').evolve(pauli_dict[label])\n",
    "    evolved01 = Statevector.from_label('01').evolve(pauli_dict[label])\n",
    "    evolved10 = Statevector.from_label('10').evolve(pauli_dict[label])\n",
    "    evolved11 = Statevector.from_label('11').evolve(pauli_dict[label])\n",
    "\n",
    "    ##*** below is the array holding the eigenvalue corresponding to the 00, 01, 10 and 11 states and \n",
    "    #will be used to set the coefficients for extracting the sign associated with each of the counts\n",
    "    #of states after measurements on the circuit are made***##\n",
    "\n",
    "    eigenvalue_arr = (evolved00 + evolved01 + evolved10 + evolved11).data\n",
    "    \n",
    "    return eigenvalue_arr\n",
    "\n",
    "##########################################################################################\n",
    "\n",
    "\n",
    "\n",
    "def objective_function(angles, pauli_label, num_shots):\n",
    "    '''\n",
    "    parameters:\n",
    "    angles .... list of 8-angles for parameterization of gates\n",
    "    pauli_label .... the current term's pauli product label, so XX, YY ..ZI etc...\n",
    "    num_shots .. the number of counts the simulator will run, also used to calculate probability\n",
    "    \n",
    "    \n",
    "    this function is part of the final objective/cost function, it constructs the measurement circuit\n",
    "    for a given pauli product term in the general ubit operator\n",
    "    '''\n",
    "    ################ circuit part #################\n",
    "    \n",
    "    qc = Get_Two_Qubit_Circuit(angles)\n",
    "    \n",
    "    ##*** if we have an X on the first  or second qubit, we must apply a hadamard gate on the corresponding\n",
    "    # qubit before measurement to get the state into the Z-basis, and if we have a Y we apply a \n",
    "    # U2 at 0 and pi/2 angles ***##\n",
    "    \n",
    "    if pauli_label[0] == \"X\":\n",
    "        qc.h(1)\n",
    "    elif pauli_label[0] == \"Y\":\n",
    "        qc.u2(0,np.pi/2,1)\n",
    "    \n",
    "    if pauli_label[1] == \"X\":\n",
    "        qc.h(0)\n",
    "    elif pauli_label[1] == \"Y\":\n",
    "        qc.u2(0,np.pi/2,0)\n",
    "    \n",
    "    qc.measure((0,1),(0,1))\n",
    "    \n",
    "    ################### measurement part ##############\n",
    "    \n",
    "    simulator = Aer.get_backend('qasm_simulator') ## we use the quantum simulator Qasm from Qiskit\n",
    "    \n",
    "    result = execute(qc, backend = simulator, shots = num_shots).result() ## this executes the circuit\n",
    "    counts = result.get_counts(qc) ## extracting the counts from results\n",
    "    \n",
    "    # setting the counts to \"zero\" if there are none    \n",
    "    if '00' not in counts:\n",
    "        counts['00'] = 0\n",
    "    if '01' not in counts:\n",
    "        counts['01'] = 0\n",
    "    if '10' not in counts:\n",
    "        counts['10'] = 0\n",
    "    if '11' not in counts:\n",
    "        counts['11'] = 0 \n",
    "        \n",
    "    ## placing the counts of the 4 basis states of the 2-qubit state vector into a 4 unit array:    \n",
    "    counts_array = np.array([counts['00'],counts['01'],counts['10'],counts['11']])\n",
    "    \n",
    "    ##*** calculating the final expectation value of the given pauli product term by multiplying the\n",
    "    # counts of each of the 4 states by the corresponding sign in the pattern defined by the function \n",
    "    # eigenvale_array, and them dividing by total counts to get the probability ***##:\n",
    "    expectation_val = (np.dot(counts_array, eigenvalue_array(pauli_label)) / np.sum(counts_array))\n",
    "    \n",
    "            \n",
    "    return expectation_val, qc\n",
    "\n",
    "\n",
    "########################## Final Cost function for energy calculation step ##############################\n",
    "\n",
    "def get_energy( angles):\n",
    "    \n",
    "    pauli_label_list = pauli_string_labels #definig the variable for holding the non zero pauli product labels\n",
    "    num_shots = 10000 ## number of times the simulator is run\n",
    "    l = len(pauli_label_list) ## length of the non zero pauli product terms comprising the matrix\n",
    "    pauli_string_expectations = np.zeros(l, dtype= float) #initializing a list for holding expectation values\n",
    "    \n",
    "    #########################################################\n",
    "    \n",
    "    ##*** II is a special case so if it is presesnt, it will always be the first entry of the list and we know\n",
    "    # its expectation value is always 1 and we skip one iteration, otherwise we set it to zero and not skip\n",
    "    if pauli_label_list[0] == \"II\":\n",
    "        \n",
    "        pauli_string_expectations[0] = 1\n",
    "        print(pauli_string_expectations[0])\n",
    "        start = 1\n",
    "    else:\n",
    "        start = 0\n",
    "    #########################################################\n",
    "    \n",
    "    ##** HERE IS THE MOST IMPORTANT STEP! HERE WE APPLY ALL THE FUNCTIONS TO CALCULATE THE ENERGY OF\n",
    "    # EVERY NON ZERO PAULI PRODUCT TERM, AND ITERATE OVER THE LIST THEN SUM THEM ALL UP***##\n",
    "    for i in range(start,l):\n",
    "        energy_of_term = objective_function(angles, pauli_label_list[i] ,num_shots)\n",
    "        pauli_string_expectations[i] = energy_of_term[0]\n",
    "        print(pauli_string_expectations[i])\n",
    "               \n",
    "    ## THIS SUMS UP THE INDIVIDUAL ENERGIES OF EVERY TERM IN THE QUBIT OPERATOR FORMING THE MATRIX    \n",
    "    energy = np.dot(pauli_string_coefficients, pauli_string_expectations) \n",
    "    \n",
    "    ## We chose to return every individual term's energy contribution, and at the very end the total energy\n",
    "    return energy, energy_of_term[1]\n",
    "\n"
   ]
  },
  {
   "cell_type": "markdown",
   "metadata": {},
   "source": [
    "# NOW FOR THE CLASSICAL OPTIMIZATION STEP"
   ]
  },
  {
   "cell_type": "code",
   "execution_count": 13,
   "metadata": {},
   "outputs": [],
   "source": [
    "%%capture\n",
    "from qiskit.aqua.components.optimizers import COBYLA\n",
    "\n",
    "# Initializing the COBYLA optimizer with 500 maximum iterations and small tolerance of 0.0001\n",
    "optimizer = COBYLA(maxiter=500, tol=0.000001)\n",
    "\n",
    "##*** Creating the initial parameters, taking care they are 8, so we initialize with angles zero on every gate\n",
    "# and the optimizer picks up from there ***##\n",
    "\n",
    "p= np.zeros(8) ## an array of eight angles all zeros as our starting point for optimization\n",
    "\n",
    "Get_Lowest_Eigenvalue = optimizer.optimize(num_vars=8, objective_function = get_energy , initial_point=p)\n",
    "\n"
   ]
  },
  {
   "cell_type": "markdown",
   "metadata": {},
   "source": [
    "### \n",
    "## This is the APPROXIMATE VQE result for the first matrix:\n",
    "### "
   ]
  },
  {
   "cell_type": "code",
   "execution_count": 77,
   "metadata": {},
   "outputs": [
    {
     "name": "stdout",
     "output_type": "stream",
     "text": [
      "the lowest eigenvalue is:  -0.9991000000000001\n",
      "This corresponds to angles:  [-1.54723563  1.09388106  1.08247782  1.59606041  2.00905752  1.29040978\n",
      "  0.40619493 -0.06377897]\n",
      "the number of iterations taken to get the value was:  137\n"
     ]
    }
   ],
   "source": [
    "print(\"the lowest eigenvalue is: \" , Get_Lowest_Eigenvalue[1])\n",
    "print(\"This corresponds to angles: \" , Get_Lowest_Eigenvalue[0])\n",
    "print(\"the number of iterations taken to get the value was: \" , Get_Lowest_Eigenvalue[2])"
   ]
  },
  {
   "cell_type": "markdown",
   "metadata": {},
   "source": [
    "### \n",
    "## This is the EXACT result for the first matrix:\n",
    "### "
   ]
  },
  {
   "cell_type": "code",
   "execution_count": 14,
   "metadata": {},
   "outputs": [],
   "source": [
    "## This function sorts all the pauli products in the quabit operator into a Hamiltonian which we can then \n",
    "## use a classical numpy eigensolver to get ots exact lowest eigenvalue.\n",
    "\n",
    "from qiskit.aqua.operators import WeightedPauliOperator\n",
    "from qiskit.aqua.algorithms import NumPyEigensolver\n",
    "\n",
    "def hamiltonian_operator(plist):\n",
    "    plist = My_Hami_pauli_list\n",
    "    \n",
    "    pauli_dict = {\n",
    "        'paulis': [{\"coeff\": {\"imag\": plist[0].imag, \"real\": plist[0].real}, \"label\": pauli_labels_key[0]},\n",
    "                   {\"coeff\": {\"imag\": plist[1].imag, \"real\": plist[1].real}, \"label\": pauli_labels_key[1]},\n",
    "                   {\"coeff\": {\"imag\": plist[2].imag, \"real\": plist[2].real}, \"label\": pauli_labels_key[2]},\n",
    "                   {\"coeff\": {\"imag\": plist[3].imag, \"real\": plist[3].real}, \"label\": pauli_labels_key[3]},\n",
    "                   {\"coeff\": {\"imag\": plist[4].imag, \"real\": plist[4].real}, \"label\": pauli_labels_key[4]},\n",
    "                   {\"coeff\": {\"imag\": plist[5].imag, \"real\": plist[5].real}, \"label\": pauli_labels_key[5]},\n",
    "                   {\"coeff\": {\"imag\": plist[6].imag, \"real\": plist[6].real}, \"label\": pauli_labels_key[6]},\n",
    "                   {\"coeff\": {\"imag\": plist[7].imag, \"real\": plist[7].real}, \"label\": pauli_labels_key[7]},\n",
    "                   {\"coeff\": {\"imag\": plist[8].imag, \"real\": plist[8].real}, \"label\": pauli_labels_key[8]},\n",
    "                   {\"coeff\": {\"imag\": plist[9].imag, \"real\": plist[9].real}, \"label\": pauli_labels_key[9]},\n",
    "                   {\"coeff\": {\"imag\": plist[10].imag, \"real\": plist[10].real}, \"label\": pauli_labels_key[10]},\n",
    "                   {\"coeff\": {\"imag\": plist[11].imag, \"real\": plist[11].real}, \"label\": pauli_labels_key[11]},\n",
    "                   {\"coeff\": {\"imag\": plist[12].imag, \"real\": plist[12].real}, \"label\": pauli_labels_key[12]},\n",
    "                   {\"coeff\": {\"imag\": plist[13].imag, \"real\": plist[13].real}, \"label\": pauli_labels_key[13]},\n",
    "                   {\"coeff\": {\"imag\": plist[14].imag, \"real\": plist[14].real}, \"label\": pauli_labels_key[14]},\n",
    "                   {\"coeff\": {\"imag\": plist[15].imag, \"real\": plist[15].real}, \"label\": pauli_labels_key[15]},\n",
    "                   ]\n",
    "    }\n",
    "    \n",
    "    return WeightedPauliOperator.from_dict(pauli_dict)\n",
    "\n",
    "\n",
    "\n"
   ]
  },
  {
   "cell_type": "code",
   "execution_count": 79,
   "metadata": {},
   "outputs": [
    {
     "name": "stdout",
     "output_type": "stream",
     "text": [
      "the pauli string terms are: \n",
      "II\t(0.5+0j)\n",
      "XX\t(-0.5+0j)\n",
      "YY\t(-0.5+0j)\n",
      "ZZ\t(0.5+0j)\n",
      "\n",
      "Exact ground energy is: -1.0\n"
     ]
    }
   ],
   "source": [
    "\n",
    "H = hamiltonian_operator(My_Hami_pauli_list)\n",
    "print(\"the pauli string terms are: \\n\" + H.print_details())\n",
    "\n",
    "exact_result = NumPyEigensolver(H).run() ## an exact eigensolver to extract all the eigenvalues of the matrix\n",
    "energy = min(np.real(exact_result.eigenvalues)) ## get the minimum eigenvalue\n",
    "print('Exact ground energy is: {}'.format(energy))\n",
    "\n"
   ]
  },
  {
   "cell_type": "markdown",
   "metadata": {},
   "source": [
    "### \n",
    "## This is the APPROXIMATE VQE result for the Second matrix:\n",
    "### "
   ]
  },
  {
   "cell_type": "code",
   "execution_count": 15,
   "metadata": {
    "scrolled": true
   },
   "outputs": [
    {
     "name": "stdout",
     "output_type": "stream",
     "text": [
      "(0.5+0j) II\n",
      "(-1+0j) XX\n",
      "(-7+0j) YY\n",
      "(0.5+0j) ZZ\n",
      "(1.5+0j) XI\n",
      "(3.5+0j) IX\n",
      "(1.5+0j) XZ\n",
      "(0.5+0j) ZX\n"
     ]
    }
   ],
   "source": [
    "## here we generate the qubit operator by applying the decomposition function q_op on the 1st matrix Hami_2\n",
    "quantum_operator_1 = q_op(Hami_2)\n",
    "\n",
    "## Assigning the pauli_string indices, labels and coefficients of the non zero pauli product terms to a lsit\n",
    "\n",
    "My_Hami_pauli_list = quantum_operator_1[0]\n",
    "pauli_string_indices = quantum_operator_1[1]\n",
    "pauli_string_labels = quantum_operator_1[2]\n",
    "pauli_string_coefficients =quantum_operator_1[3]\n",
    "\n",
    "## turning the lists into arrays for convenience\n",
    "\n",
    "pauli_string_indices = np.asarray(pauli_string_indices)\n",
    "pauli_string_labels = np.asarray(pauli_string_labels)\n",
    "pauli_string_coefficients = np.asarray(pauli_string_coefficients)"
   ]
  },
  {
   "cell_type": "markdown",
   "metadata": {},
   "source": [
    "OPTIMIZATION for the second matrix:"
   ]
  },
  {
   "cell_type": "code",
   "execution_count": 16,
   "metadata": {},
   "outputs": [],
   "source": [
    "%%capture\n",
    "## OPTIMIZING:\n",
    "optimizer = COBYLA(maxiter=500, tol=0.001)\n",
    "Get_Lowest_Eigenvalue = optimizer.optimize(num_vars=8, objective_function = get_energy , initial_point=p)\n"
   ]
  },
  {
   "cell_type": "code",
   "execution_count": 109,
   "metadata": {
    "scrolled": false
   },
   "outputs": [
    {
     "name": "stdout",
     "output_type": "stream",
     "text": [
      "the lowest eigenvalue is:  -10.1219\n",
      "This corresponds to angles:  [-0.95731573  0.56844224  0.54844014 -1.39374282 -1.18862246 -0.40890366\n",
      " -1.17114702 -0.98945931]\n",
      "the number of iterations taken to get the value was:  87\n"
     ]
    }
   ],
   "source": [
    "print(\"the lowest eigenvalue is: \" , Get_Lowest_Eigenvalue[1])\n",
    "print(\"This corresponds to angles: \" , Get_Lowest_Eigenvalue[0])\n",
    "print(\"the number of iterations taken to get the value was: \" , Get_Lowest_Eigenvalue[2])"
   ]
  },
  {
   "cell_type": "markdown",
   "metadata": {},
   "source": [
    "### \n",
    "## This is the EXACT result for the second matrix:\n",
    "### "
   ]
  },
  {
   "cell_type": "code",
   "execution_count": 107,
   "metadata": {
    "scrolled": true
   },
   "outputs": [
    {
     "name": "stdout",
     "output_type": "stream",
     "text": [
      "the pauli string terms are: \n",
      "II\t(0.5+0j)\n",
      "XX\t(-1+0j)\n",
      "YY\t(-7+0j)\n",
      "ZZ\t(0.5+0j)\n",
      "XI\t(1.5+0j)\n",
      "IX\t(3.5+0j)\n",
      "XZ\t(1.5+0j)\n",
      "ZX\t(0.5+0j)\n",
      "\n",
      "Exact ground energy is: -10.228964194368679\n"
     ]
    }
   ],
   "source": [
    "H = hamiltonian_operator(My_Hami_pauli_list)\n",
    "print(\"the pauli string terms are: \\n\" + H.print_details())\n",
    "\n",
    "exact_result = NumPyEigensolver(H).run()\n",
    "energy = min(np.real(exact_result.eigenvalues))\n",
    "print('Exact ground energy is: {}'.format(energy))"
   ]
  },
  {
   "cell_type": "markdown",
   "metadata": {},
   "source": [
    "### \n",
    "## This is the APPROXIMATE VQE result for the third matrix:\n",
    "### "
   ]
  },
  {
   "cell_type": "code",
   "execution_count": 17,
   "metadata": {
    "scrolled": true
   },
   "outputs": [
    {
     "name": "stdout",
     "output_type": "stream",
     "text": [
      "(0.5+0j) II\n",
      "(-1+0j) XX\n",
      "(-7+0j) YY\n",
      "(0.5+0j) ZZ\n",
      "(1.5+0j) XI\n",
      "(1.5+0j) IX\n",
      "(-2+0j) IY\n",
      "(1.5+0j) XZ\n",
      "(-1.5+0j) ZX\n",
      "(-2+0j) ZY\n",
      "(-1+0j) XY\n",
      "(-1+0j) YX\n"
     ]
    }
   ],
   "source": [
    "## here we generate the qubit operator by applying the decomposition function q_op on the 1st matrix Hami_3\n",
    "quantum_operator_1 = q_op(Hami_3)\n",
    "\n",
    "## Assigning the pauli_string indices, labels and coefficients of the non zero pauli product terms to a lsit\n",
    "\n",
    "My_Hami_pauli_list = quantum_operator_1[0]\n",
    "pauli_string_indices = quantum_operator_1[1]\n",
    "pauli_string_labels = quantum_operator_1[2]\n",
    "pauli_string_coefficients =quantum_operator_1[3]\n",
    "\n",
    "## turning the lists into arrays for convenience\n",
    "\n",
    "pauli_string_indices = np.asarray(pauli_string_indices)\n",
    "pauli_string_labels = np.asarray(pauli_string_labels)\n",
    "pauli_string_coefficients = np.asarray(pauli_string_coefficients)"
   ]
  },
  {
   "cell_type": "markdown",
   "metadata": {},
   "source": [
    "OPTIMIZATION for the third matrix:"
   ]
  },
  {
   "cell_type": "code",
   "execution_count": 18,
   "metadata": {},
   "outputs": [],
   "source": [
    "%%capture\n",
    "optimizer = COBYLA(maxiter=500, tol=0.00000001)\n",
    "Get_Lowest_Eigenvalue = optimizer.optimize(num_vars=8, objective_function = get_energy , initial_point=p)\n"
   ]
  },
  {
   "cell_type": "code",
   "execution_count": 99,
   "metadata": {
    "scrolled": true
   },
   "outputs": [
    {
     "name": "stdout",
     "output_type": "stream",
     "text": [
      "the approximate lowest eigenvalue is:  -9.3412\n",
      "This corresponds to angles:  [-0.61538682  0.71403019  0.85950033  1.05052263  1.82991994  1.8924619\n",
      "  0.53521082  1.09160626]\n",
      "the number of iterations taken to get the value was:  156\n"
     ]
    }
   ],
   "source": [
    "print(\"the approximate lowest eigenvalue is: \" , Get_Lowest_Eigenvalue[1])\n",
    "print(\"This corresponds to angles: \" , Get_Lowest_Eigenvalue[0])\n",
    "print(\"the number of iterations taken to get the value was: \" , Get_Lowest_Eigenvalue[2])"
   ]
  },
  {
   "cell_type": "markdown",
   "metadata": {},
   "source": [
    "### \n",
    "## This is the EXACT result for the Third matrix:\n",
    "### "
   ]
  },
  {
   "cell_type": "code",
   "execution_count": 100,
   "metadata": {},
   "outputs": [
    {
     "name": "stdout",
     "output_type": "stream",
     "text": [
      "the pauli string terms are: \n",
      "II\t(0.5+0j)\n",
      "XX\t(-1+0j)\n",
      "YY\t(-7+0j)\n",
      "ZZ\t(0.5+0j)\n",
      "XI\t(1.5+0j)\n",
      "IX\t(1.5+0j)\n",
      "IY\t(-2+0j)\n",
      "XZ\t(1.5+0j)\n",
      "ZX\t(-1.5+0j)\n",
      "ZY\t(-2+0j)\n",
      "XY\t(-1+0j)\n",
      "YX\t(-1+0j)\n",
      "\n",
      "Exact lowest eigenvalue is: -9.494996920313149\n"
     ]
    }
   ],
   "source": [
    "H = hamiltonian_operator(My_Hami_pauli_list)\n",
    "print(\"the pauli string terms are: \\n\" + H.print_details())\n",
    "\n",
    "exact_result = NumPyEigensolver(H).run()\n",
    "energy = min(np.real(exact_result.eigenvalues))\n",
    "print('Exact lowest eigenvalue is: {}'.format(energy))"
   ]
  },
  {
   "cell_type": "code",
   "execution_count": 4,
   "metadata": {},
   "outputs": [
    {
     "data": {
      "text/html": [
       "<style>.text_cell_render p {text-align: justify; text-justify: inter-word;  }</style>"
      ],
      "text/plain": [
       "<IPython.core.display.HTML object>"
      ]
     },
     "metadata": {},
     "output_type": "display_data"
    },
    {
     "data": {
      "text/html": [
       "<style>.container { width:60% !important; }</style>"
      ],
      "text/plain": [
       "<IPython.core.display.HTML object>"
      ]
     },
     "metadata": {},
     "output_type": "display_data"
    }
   ],
   "source": [
    "'''adding some aesthetic options to the page'''\n",
    "\n",
    "## these 2 lines justify markdwon cells\n",
    "from IPython.core.display import display, HTML\n",
    "display(HTML(\"<style>.text_cell_render p {text-align: justify; text-justify: inter-word;  }</style>\"))\n",
    "\n",
    "## this line enlarges the width of all cells\n",
    "display(HTML(\"<style>.container { width:60% !important; }</style>\"))"
   ]
  }
 ],
 "metadata": {
  "kernelspec": {
   "display_name": "Python [conda env:Qiskit] *",
   "language": "python",
   "name": "conda-env-Qiskit-py"
  },
  "language_info": {
   "codemirror_mode": {
    "name": "ipython",
    "version": 3
   },
   "file_extension": ".py",
   "mimetype": "text/x-python",
   "name": "python",
   "nbconvert_exporter": "python",
   "pygments_lexer": "ipython3",
   "version": "3.8.5"
  }
 },
 "nbformat": 4,
 "nbformat_minor": 4
}
